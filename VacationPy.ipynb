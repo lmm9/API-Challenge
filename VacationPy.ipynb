{
 "cells": [
  {
   "cell_type": "markdown",
   "metadata": {},
   "source": [
    "# VacationPy\n",
    "----\n",
    "\n",
    "#### Note\n",
    "* Instructions have been included for each segment. You do not have to follow them exactly, but they are included to help you think through the steps."
   ]
  },
  {
   "cell_type": "code",
   "execution_count": 181,
   "metadata": {},
   "outputs": [],
   "source": [
    "# Dependencies and Setup\n",
    "import matplotlib.pyplot as plt\n",
    "import pandas as pd\n",
    "import numpy as np\n",
    "import requests\n",
    "import gmaps\n",
    "import os\n",
    "\n",
    "# Import API key\n",
    "from api_keys import g_key\n",
    "\n",
    "# Configure gmaps\n",
    "gmaps.configure(api_key=g_key)"
   ]
  },
  {
   "cell_type": "markdown",
   "metadata": {},
   "source": [
    "### Store Part I results into DataFrame\n",
    "* Load the csv exported in Part I to a DataFrame"
   ]
  },
  {
   "cell_type": "code",
   "execution_count": 182,
   "metadata": {},
   "outputs": [
    {
     "data": {
      "text/html": [
       "<div>\n",
       "<style scoped>\n",
       "    .dataframe tbody tr th:only-of-type {\n",
       "        vertical-align: middle;\n",
       "    }\n",
       "\n",
       "    .dataframe tbody tr th {\n",
       "        vertical-align: top;\n",
       "    }\n",
       "\n",
       "    .dataframe thead th {\n",
       "        text-align: right;\n",
       "    }\n",
       "</style>\n",
       "<table border=\"1\" class=\"dataframe\">\n",
       "  <thead>\n",
       "    <tr style=\"text-align: right;\">\n",
       "      <th></th>\n",
       "      <th>city</th>\n",
       "      <th>country</th>\n",
       "      <th>lat</th>\n",
       "      <th>lng</th>\n",
       "      <th>temp</th>\n",
       "      <th>humidity</th>\n",
       "      <th>cloudiness</th>\n",
       "      <th>wind_speed</th>\n",
       "    </tr>\n",
       "  </thead>\n",
       "  <tbody>\n",
       "    <tr>\n",
       "      <th>0</th>\n",
       "      <td>Solnechnyy</td>\n",
       "      <td>RU</td>\n",
       "      <td>50.72</td>\n",
       "      <td>136.63</td>\n",
       "      <td>59.43</td>\n",
       "      <td>54</td>\n",
       "      <td>100</td>\n",
       "      <td>3.24</td>\n",
       "    </tr>\n",
       "    <tr>\n",
       "      <th>1</th>\n",
       "      <td>Port Alfred</td>\n",
       "      <td>ZA</td>\n",
       "      <td>-33.59</td>\n",
       "      <td>26.89</td>\n",
       "      <td>49.82</td>\n",
       "      <td>63</td>\n",
       "      <td>16</td>\n",
       "      <td>21.61</td>\n",
       "    </tr>\n",
       "    <tr>\n",
       "      <th>2</th>\n",
       "      <td>Ixtapa</td>\n",
       "      <td>MX</td>\n",
       "      <td>20.70</td>\n",
       "      <td>-105.20</td>\n",
       "      <td>83.08</td>\n",
       "      <td>74</td>\n",
       "      <td>90</td>\n",
       "      <td>4.70</td>\n",
       "    </tr>\n",
       "    <tr>\n",
       "      <th>3</th>\n",
       "      <td>Ushuaia</td>\n",
       "      <td>AR</td>\n",
       "      <td>-54.80</td>\n",
       "      <td>-68.30</td>\n",
       "      <td>32.00</td>\n",
       "      <td>93</td>\n",
       "      <td>90</td>\n",
       "      <td>13.87</td>\n",
       "    </tr>\n",
       "    <tr>\n",
       "      <th>4</th>\n",
       "      <td>Fort Dodge</td>\n",
       "      <td>US</td>\n",
       "      <td>42.50</td>\n",
       "      <td>-94.17</td>\n",
       "      <td>65.35</td>\n",
       "      <td>60</td>\n",
       "      <td>1</td>\n",
       "      <td>3.36</td>\n",
       "    </tr>\n",
       "  </tbody>\n",
       "</table>\n",
       "</div>"
      ],
      "text/plain": [
       "          city country    lat     lng   temp  humidity  cloudiness  wind_speed\n",
       "0   Solnechnyy      RU  50.72  136.63  59.43        54         100        3.24\n",
       "1  Port Alfred      ZA -33.59   26.89  49.82        63          16       21.61\n",
       "2       Ixtapa      MX  20.70 -105.20  83.08        74          90        4.70\n",
       "3      Ushuaia      AR -54.80  -68.30  32.00        93          90       13.87\n",
       "4   Fort Dodge      US  42.50  -94.17  65.35        60           1        3.36"
      ]
     },
     "execution_count": 182,
     "metadata": {},
     "output_type": "execute_result"
    }
   ],
   "source": [
    "csv_path = \"output_data/cities.csv\"\n",
    "clean_cities_df = pd.read_csv(csv_path, encoding=\"utf-8\")\n",
    "clean_cities_df.head()"
   ]
  },
  {
   "cell_type": "markdown",
   "metadata": {},
   "source": [
    "### Humidity Heatmap\n",
    "* Configure gmaps.\n",
    "* Use the Lat and Lng as locations and Humidity as the weight.\n",
    "* Add Heatmap layer to map."
   ]
  },
  {
   "cell_type": "code",
   "execution_count": 183,
   "metadata": {},
   "outputs": [],
   "source": [
    "# Store latitude and longitude in locations\n",
    "locations = clean_cities_df[[\"lat\", \"lng\"]]\n",
    "\n",
    "# Fill NaN values and convert to float\n",
    "rating = clean_cities_df[\"humidity\"].astype(float)"
   ]
  },
  {
   "cell_type": "code",
   "execution_count": 184,
   "metadata": {},
   "outputs": [
    {
     "data": {
      "application/vnd.jupyter.widget-view+json": {
       "model_id": "a049f18701c3481683300b86adfcdfc1",
       "version_major": 2,
       "version_minor": 0
      },
      "text/plain": [
       "Figure(layout=FigureLayout(height='420px'))"
      ]
     },
     "metadata": {},
     "output_type": "display_data"
    }
   ],
   "source": [
    "# Plot Heatmap\n",
    "fig = gmaps.figure()\n",
    "\n",
    "# Create heat layer\n",
    "heat_layer = gmaps.heatmap_layer(locations, weights=rating, \n",
    "                                 dissipating=False, max_intensity=100,\n",
    "                                 point_radius=1)\n",
    "\n",
    "\n",
    "# Add layer\n",
    "fig.add_layer(heat_layer)\n",
    "\n",
    "# Display figure\n",
    "fig"
   ]
  },
  {
   "cell_type": "markdown",
   "metadata": {},
   "source": [
    "### Create new DataFrame fitting weather criteria\n",
    "* Narrow down the cities to fit weather conditions.\n",
    "* Drop any rows will null values."
   ]
  },
  {
   "cell_type": "code",
   "execution_count": 185,
   "metadata": {},
   "outputs": [
    {
     "data": {
      "text/plain": [
       "485"
      ]
     },
     "execution_count": 185,
     "metadata": {},
     "output_type": "execute_result"
    }
   ],
   "source": [
    "len(clean_cities_df)"
   ]
  },
  {
   "cell_type": "code",
   "execution_count": 186,
   "metadata": {},
   "outputs": [],
   "source": [
    "#Drop any rows will null values\n",
    "clean_cities_df = clean_cities_df.dropna(how='any')"
   ]
  },
  {
   "cell_type": "code",
   "execution_count": 187,
   "metadata": {},
   "outputs": [
    {
     "data": {
      "text/plain": [
       "480"
      ]
     },
     "execution_count": 187,
     "metadata": {},
     "output_type": "execute_result"
    }
   ],
   "source": [
    "len(clean_cities_df)"
   ]
  },
  {
   "cell_type": "code",
   "execution_count": 188,
   "metadata": {},
   "outputs": [
    {
     "data": {
      "text/plain": [
       "city           object\n",
       "country        object\n",
       "lat           float64\n",
       "lng           float64\n",
       "temp            int64\n",
       "humidity        int64\n",
       "cloudiness      int64\n",
       "wind_speed    float64\n",
       "dtype: object"
      ]
     },
     "execution_count": 188,
     "metadata": {},
     "output_type": "execute_result"
    }
   ],
   "source": [
    "clean_cities_df[\"temp\"] = clean_cities_df[\"temp\"].astype(int)\n",
    "clean_cities_df[\"humidity\"] = clean_cities_df[\"humidity\"].astype(int)\n",
    "clean_cities_df[\"cloudiness\"] = clean_cities_df[\"cloudiness\"].astype(int)\n",
    "clean_cities_df[\"wind_speed\"] = clean_cities_df[\"wind_speed\"].astype(float)\n",
    "\n",
    "clean_cities_df.dtypes"
   ]
  },
  {
   "cell_type": "code",
   "execution_count": 189,
   "metadata": {},
   "outputs": [
    {
     "data": {
      "text/plain": [
       "9"
      ]
     },
     "execution_count": 189,
     "metadata": {},
     "output_type": "execute_result"
    }
   ],
   "source": [
    "best_cities_df = clean_cities_df.loc[clean_cities_df[\"cloudiness\"] == 0]\n",
    "best_cities_df= best_cities_df.loc[best_cities_df[\"wind_speed\"] <10]\n",
    "best_cities_df= best_cities_df.loc[best_cities_df[\"temp\"] < 85]\n",
    "best_cities_df= best_cities_df.loc[best_cities_df[\"temp\"] > 75]\n",
    "best_cities_df= best_cities_df.loc[best_cities_df[\"humidity\"] < 65]\n",
    "len(best_cities_df)"
   ]
  },
  {
   "cell_type": "markdown",
   "metadata": {},
   "source": [
    "### Hotel Map\n",
    "* Store into variable named `hotel_df`.\n",
    "* Add a \"Hotel Name\" column to the DataFrame.\n",
    "* Set parameters to search for hotels with 5000 meters.\n",
    "* Hit the Google Places API for each city's coordinates.\n",
    "* Store the first Hotel result into the DataFrame.\n",
    "* Plot markers on top of the heatmap."
   ]
  },
  {
   "cell_type": "code",
   "execution_count": 190,
   "metadata": {},
   "outputs": [],
   "source": [
    "#Store into variable named hotel_df\n",
    "hotel_df=best_cities_df"
   ]
  },
  {
   "cell_type": "code",
   "execution_count": 191,
   "metadata": {},
   "outputs": [
    {
     "data": {
      "text/html": [
       "<div>\n",
       "<style scoped>\n",
       "    .dataframe tbody tr th:only-of-type {\n",
       "        vertical-align: middle;\n",
       "    }\n",
       "\n",
       "    .dataframe tbody tr th {\n",
       "        vertical-align: top;\n",
       "    }\n",
       "\n",
       "    .dataframe thead th {\n",
       "        text-align: right;\n",
       "    }\n",
       "</style>\n",
       "<table border=\"1\" class=\"dataframe\">\n",
       "  <thead>\n",
       "    <tr style=\"text-align: right;\">\n",
       "      <th></th>\n",
       "      <th>city</th>\n",
       "      <th>country</th>\n",
       "      <th>lat</th>\n",
       "      <th>lng</th>\n",
       "      <th>temp</th>\n",
       "      <th>humidity</th>\n",
       "      <th>cloudiness</th>\n",
       "      <th>wind_speed</th>\n",
       "      <th>hotel_name</th>\n",
       "    </tr>\n",
       "  </thead>\n",
       "  <tbody>\n",
       "    <tr>\n",
       "      <th>22</th>\n",
       "      <td>Nola</td>\n",
       "      <td>IT</td>\n",
       "      <td>40.92</td>\n",
       "      <td>14.53</td>\n",
       "      <td>77</td>\n",
       "      <td>64</td>\n",
       "      <td>0</td>\n",
       "      <td>1.12</td>\n",
       "      <td></td>\n",
       "    </tr>\n",
       "    <tr>\n",
       "      <th>76</th>\n",
       "      <td>Iranshahr</td>\n",
       "      <td>IR</td>\n",
       "      <td>27.20</td>\n",
       "      <td>60.68</td>\n",
       "      <td>82</td>\n",
       "      <td>15</td>\n",
       "      <td>0</td>\n",
       "      <td>6.02</td>\n",
       "      <td></td>\n",
       "    </tr>\n",
       "    <tr>\n",
       "      <th>130</th>\n",
       "      <td>Chengzhong</td>\n",
       "      <td>CN</td>\n",
       "      <td>30.95</td>\n",
       "      <td>113.55</td>\n",
       "      <td>84</td>\n",
       "      <td>62</td>\n",
       "      <td>0</td>\n",
       "      <td>6.71</td>\n",
       "      <td></td>\n",
       "    </tr>\n",
       "    <tr>\n",
       "      <th>161</th>\n",
       "      <td>Buraidah</td>\n",
       "      <td>SA</td>\n",
       "      <td>26.33</td>\n",
       "      <td>43.98</td>\n",
       "      <td>80</td>\n",
       "      <td>32</td>\n",
       "      <td>0</td>\n",
       "      <td>4.70</td>\n",
       "      <td></td>\n",
       "    </tr>\n",
       "    <tr>\n",
       "      <th>193</th>\n",
       "      <td>Wewak</td>\n",
       "      <td>PG</td>\n",
       "      <td>-3.55</td>\n",
       "      <td>143.63</td>\n",
       "      <td>84</td>\n",
       "      <td>62</td>\n",
       "      <td>0</td>\n",
       "      <td>5.99</td>\n",
       "      <td></td>\n",
       "    </tr>\n",
       "  </tbody>\n",
       "</table>\n",
       "</div>"
      ],
      "text/plain": [
       "           city country    lat     lng  temp  humidity  cloudiness  \\\n",
       "22         Nola      IT  40.92   14.53    77        64           0   \n",
       "76    Iranshahr      IR  27.20   60.68    82        15           0   \n",
       "130  Chengzhong      CN  30.95  113.55    84        62           0   \n",
       "161    Buraidah      SA  26.33   43.98    80        32           0   \n",
       "193       Wewak      PG  -3.55  143.63    84        62           0   \n",
       "\n",
       "     wind_speed hotel_name  \n",
       "22         1.12             \n",
       "76         6.02             \n",
       "130        6.71             \n",
       "161        4.70             \n",
       "193        5.99             "
      ]
     },
     "execution_count": 191,
     "metadata": {},
     "output_type": "execute_result"
    }
   ],
   "source": [
    "#Add a \"Hotel Name\" column to the DataFrame\n",
    "hotel_df[\"hotel_name\"] = \"\"\n",
    "hotel_df.head()"
   ]
  },
  {
   "cell_type": "code",
   "execution_count": 192,
   "metadata": {},
   "outputs": [],
   "source": [
    "# params dictionary to update each iteration\n",
    "params = {\n",
    "    \"radius\": 50000,\n",
    "    \"types\": \"hotel\",\n",
    "    \"key\": g_key\n",
    "}\n",
    "\n",
    "# Use the lat/lng we recovered to identify airports\n",
    "for index, row in hotel_df.iterrows():\n",
    "    # get lat, lng from df\n",
    "    lat = row[\"lat\"]\n",
    "    lng = row[\"lng\"]\n",
    "\n",
    "    # change location each iteration while leaving original params in place\n",
    "    params[\"location\"] = f\"{lat},{lng}\"\n",
    "\n",
    "    # Use the search term: \"International Airport\" and our lat/lng\n",
    "    base_url = \"https://maps.googleapis.com/maps/api/place/nearbysearch/json\"\n",
    "\n",
    "    # make request and print url\n",
    "    response = requests.get(base_url, params=params)\n",
    "\n",
    "    # convert to json\n",
    "    find_hotel = response.json()\n",
    "\n",
    "    # Since some data may be missing we incorporate a try-except to skip any that are missing a data point.\n",
    "    hotel_df.loc[index, \"hotel_name\"] = find_hotel[\"results\"][0][\"name\"]\n",
    "    hotel_df   "
   ]
  },
  {
   "cell_type": "code",
   "execution_count": 219,
   "metadata": {},
   "outputs": [
    {
     "data": {
      "text/html": [
       "<div>\n",
       "<style scoped>\n",
       "    .dataframe tbody tr th:only-of-type {\n",
       "        vertical-align: middle;\n",
       "    }\n",
       "\n",
       "    .dataframe tbody tr th {\n",
       "        vertical-align: top;\n",
       "    }\n",
       "\n",
       "    .dataframe thead th {\n",
       "        text-align: right;\n",
       "    }\n",
       "</style>\n",
       "<table border=\"1\" class=\"dataframe\">\n",
       "  <thead>\n",
       "    <tr style=\"text-align: right;\">\n",
       "      <th></th>\n",
       "      <th>city</th>\n",
       "      <th>country</th>\n",
       "      <th>lat</th>\n",
       "      <th>lng</th>\n",
       "      <th>temp</th>\n",
       "      <th>humidity</th>\n",
       "      <th>cloudiness</th>\n",
       "      <th>wind_speed</th>\n",
       "      <th>hotel_name</th>\n",
       "    </tr>\n",
       "  </thead>\n",
       "  <tbody>\n",
       "    <tr>\n",
       "      <th>22</th>\n",
       "      <td>Nola</td>\n",
       "      <td>IT</td>\n",
       "      <td>40.92</td>\n",
       "      <td>14.53</td>\n",
       "      <td>77</td>\n",
       "      <td>64</td>\n",
       "      <td>0</td>\n",
       "      <td>1.12</td>\n",
       "      <td>Naples</td>\n",
       "    </tr>\n",
       "    <tr>\n",
       "      <th>76</th>\n",
       "      <td>Iranshahr</td>\n",
       "      <td>IR</td>\n",
       "      <td>27.20</td>\n",
       "      <td>60.68</td>\n",
       "      <td>82</td>\n",
       "      <td>15</td>\n",
       "      <td>0</td>\n",
       "      <td>6.02</td>\n",
       "      <td>Iranshahr</td>\n",
       "    </tr>\n",
       "    <tr>\n",
       "      <th>130</th>\n",
       "      <td>Chengzhong</td>\n",
       "      <td>CN</td>\n",
       "      <td>30.95</td>\n",
       "      <td>113.55</td>\n",
       "      <td>84</td>\n",
       "      <td>62</td>\n",
       "      <td>0</td>\n",
       "      <td>6.71</td>\n",
       "      <td>Wuhan</td>\n",
       "    </tr>\n",
       "    <tr>\n",
       "      <th>161</th>\n",
       "      <td>Buraidah</td>\n",
       "      <td>SA</td>\n",
       "      <td>26.33</td>\n",
       "      <td>43.98</td>\n",
       "      <td>80</td>\n",
       "      <td>32</td>\n",
       "      <td>0</td>\n",
       "      <td>4.70</td>\n",
       "      <td>Buraydah</td>\n",
       "    </tr>\n",
       "    <tr>\n",
       "      <th>193</th>\n",
       "      <td>Wewak</td>\n",
       "      <td>PG</td>\n",
       "      <td>-3.55</td>\n",
       "      <td>143.63</td>\n",
       "      <td>84</td>\n",
       "      <td>62</td>\n",
       "      <td>0</td>\n",
       "      <td>5.99</td>\n",
       "      <td>Wewak</td>\n",
       "    </tr>\n",
       "    <tr>\n",
       "      <th>250</th>\n",
       "      <td>Alice Springs</td>\n",
       "      <td>AU</td>\n",
       "      <td>-23.70</td>\n",
       "      <td>133.88</td>\n",
       "      <td>76</td>\n",
       "      <td>11</td>\n",
       "      <td>0</td>\n",
       "      <td>3.36</td>\n",
       "      <td>Alice Springs</td>\n",
       "    </tr>\n",
       "    <tr>\n",
       "      <th>285</th>\n",
       "      <td>Aswān</td>\n",
       "      <td>EG</td>\n",
       "      <td>24.09</td>\n",
       "      <td>32.91</td>\n",
       "      <td>81</td>\n",
       "      <td>24</td>\n",
       "      <td>0</td>\n",
       "      <td>7.07</td>\n",
       "      <td>Aswan</td>\n",
       "    </tr>\n",
       "    <tr>\n",
       "      <th>345</th>\n",
       "      <td>Sakakah</td>\n",
       "      <td>SA</td>\n",
       "      <td>29.97</td>\n",
       "      <td>40.21</td>\n",
       "      <td>84</td>\n",
       "      <td>13</td>\n",
       "      <td>0</td>\n",
       "      <td>8.05</td>\n",
       "      <td>Sakaka</td>\n",
       "    </tr>\n",
       "    <tr>\n",
       "      <th>446</th>\n",
       "      <td>Jalu</td>\n",
       "      <td>LY</td>\n",
       "      <td>29.03</td>\n",
       "      <td>21.55</td>\n",
       "      <td>78</td>\n",
       "      <td>46</td>\n",
       "      <td>0</td>\n",
       "      <td>5.48</td>\n",
       "      <td>Awjilah</td>\n",
       "    </tr>\n",
       "  </tbody>\n",
       "</table>\n",
       "</div>"
      ],
      "text/plain": [
       "              city country    lat     lng  temp  humidity  cloudiness  \\\n",
       "22            Nola      IT  40.92   14.53    77        64           0   \n",
       "76       Iranshahr      IR  27.20   60.68    82        15           0   \n",
       "130     Chengzhong      CN  30.95  113.55    84        62           0   \n",
       "161       Buraidah      SA  26.33   43.98    80        32           0   \n",
       "193          Wewak      PG  -3.55  143.63    84        62           0   \n",
       "250  Alice Springs      AU -23.70  133.88    76        11           0   \n",
       "285          Aswān      EG  24.09   32.91    81        24           0   \n",
       "345        Sakakah      SA  29.97   40.21    84        13           0   \n",
       "446           Jalu      LY  29.03   21.55    78        46           0   \n",
       "\n",
       "     wind_speed     hotel_name  \n",
       "22         1.12         Naples  \n",
       "76         6.02      Iranshahr  \n",
       "130        6.71          Wuhan  \n",
       "161        4.70       Buraydah  \n",
       "193        5.99          Wewak  \n",
       "250        3.36  Alice Springs  \n",
       "285        7.07          Aswan  \n",
       "345        8.05         Sakaka  \n",
       "446        5.48        Awjilah  "
      ]
     },
     "execution_count": 219,
     "metadata": {},
     "output_type": "execute_result"
    }
   ],
   "source": [
    "hotel_df"
   ]
  },
  {
   "cell_type": "code",
   "execution_count": 229,
   "metadata": {},
   "outputs": [
    {
     "data": {
      "application/vnd.jupyter.widget-view+json": {
       "model_id": "a049f18701c3481683300b86adfcdfc1",
       "version_major": 2,
       "version_minor": 0
      },
      "text/plain": [
       "Figure(layout=FigureLayout(height='420px'))"
      ]
     },
     "metadata": {},
     "output_type": "display_data"
    }
   ],
   "source": [
    "# Add marker layer ontop of heat map\n",
    "# I have spent a lot of time trying to figure out how to label these markers, \n",
    "#but I just don't know how, and can't figure out any of the online help.\n",
    "\n",
    "marker_locations = hotel_df[['lat', 'lng']]\n",
    "\n",
    "markers = gmaps.marker_layer(marker_locations,\n",
    "    info_box_content=[f\"{city}, {country}\" for row in hotel_df ])\n",
    "fig.add_layer(markers)\n",
    "fig\n"
   ]
  },
  {
   "cell_type": "code",
   "execution_count": null,
   "metadata": {},
   "outputs": [],
   "source": []
  }
 ],
 "metadata": {
  "kernelspec": {
   "display_name": "Python 3",
   "language": "python",
   "name": "python3"
  },
  "language_info": {
   "codemirror_mode": {
    "name": "ipython",
    "version": 3
   },
   "file_extension": ".py",
   "mimetype": "text/x-python",
   "name": "python",
   "nbconvert_exporter": "python",
   "pygments_lexer": "ipython3",
   "version": "3.7.6"
  },
  "latex_envs": {
   "LaTeX_envs_menu_present": true,
   "autoclose": false,
   "autocomplete": true,
   "bibliofile": "biblio.bib",
   "cite_by": "apalike",
   "current_citInitial": 1,
   "eqLabelWithNumbers": true,
   "eqNumInitial": 1,
   "hotkeys": {
    "equation": "Ctrl-E",
    "itemize": "Ctrl-I"
   },
   "labels_anchors": false,
   "latex_user_defs": false,
   "report_style_numbering": false,
   "user_envs_cfg": false
  }
 },
 "nbformat": 4,
 "nbformat_minor": 2
}
